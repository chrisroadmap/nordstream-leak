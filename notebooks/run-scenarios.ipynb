{
 "cells": [
  {
   "cell_type": "markdown",
   "id": "053c52cd",
   "metadata": {},
   "source": [
    "# Analysis of NordStream leakages\n",
    "\n",
    "Run three scenarios\n",
    "- ssp245 as the counterfactual\n",
    "- a scenario with an additional pulse of 250 ktCH4 in 2022, which is the estimated total methane release from the NordStream leak (source: https://www.euronews.com/green/2022/09/28/nord-stream-russian-gas-pipe-leaks-could-have-an-unprecedented-environmental-impact)\n",
    "- a scenario where this 200 ktCH4 would have been burned and released as CO2.\n",
    "\n",
    "Run scenarios in FaIR v2.1 using AR6 calibrated parameters in deterministic climate mode."
   ]
  },
  {
   "cell_type": "markdown",
   "id": "d36a99c3",
   "metadata": {},
   "source": [
    "## Required imports"
   ]
  },
  {
   "cell_type": "code",
   "execution_count": null,
   "id": "314b617a",
   "metadata": {},
   "outputs": [],
   "source": [
    "import os\n",
    "\n",
    "import numpy as np\n",
    "import matplotlib.pyplot as pl\n",
    "import pandas as pd\n",
    "import pooch\n",
    "import xarray as xr\n",
    "\n",
    "from fair import FAIR\n",
    "from fair.io import read_properties\n",
    "from fair.interface import initialise, fill"
   ]
  },
  {
   "cell_type": "markdown",
   "id": "98c9f200",
   "metadata": {},
   "source": [
    "## Set up FaIR and scenarios"
   ]
  },
  {
   "cell_type": "code",
   "execution_count": null,
   "id": "78251fac",
   "metadata": {},
   "outputs": [],
   "source": [
    "# initialise\n",
    "f = FAIR()\n",
    "\n",
    "# declare time horizon of simulation\n",
    "f.define_time(1750, 2100, 1)\n",
    "\n",
    "# declare scenario names and add to FaIR\n",
    "scenarios = ['ssp245', 'leak', 'burned_as_co2']\n",
    "f.define_scenarios(scenarios)\n",
    "\n",
    "# load up default list of species and their properties\n",
    "species, properties = read_properties()\n",
    "\n",
    "# declare species and properties\n",
    "f.define_species(species, properties)"
   ]
  },
  {
   "cell_type": "markdown",
   "id": "a5d98e06",
   "metadata": {},
   "source": [
    "### Obtain AR6 calibrations"
   ]
  },
  {
   "cell_type": "code",
   "execution_count": null,
   "id": "504be3a5",
   "metadata": {},
   "outputs": [],
   "source": [
    "fair_params_df = pd.read_csv('../data/fair2.1.0_ar6_calibration_ebm3_20220929.csv', index_col=0)\n",
    "fair_params_df"
   ]
  },
  {
   "cell_type": "code",
   "execution_count": null,
   "id": "b937bc36",
   "metadata": {},
   "outputs": [],
   "source": [
    "# declare config names (we use the probabilistic draw index)\n",
    "f.define_configs(list(fair_params_df.index))"
   ]
  },
  {
   "cell_type": "markdown",
   "id": "696a1a01",
   "metadata": {},
   "source": [
    "### Create emissions and natural forcing time series"
   ]
  },
  {
   "cell_type": "code",
   "execution_count": null,
   "id": "854513a6",
   "metadata": {},
   "outputs": [],
   "source": [
    "# Create arrays of emissions, etc. in FaIR\n",
    "f.allocate()"
   ]
  },
  {
   "cell_type": "code",
   "execution_count": null,
   "id": "4256ddb6",
   "metadata": {},
   "outputs": [],
   "source": [
    "# Grab pre-prepared SSP emissions, which are from RCMIP \n",
    "# (original source: Nicholls & Lewis 2021, https://zenodo.org/record/4589756#.YzVyonZByUk)\n",
    "ssp_emissions = xr.load_dataarray('../data/ssp_emissions_fair2.1.nc')"
   ]
  },
  {
   "cell_type": "code",
   "execution_count": null,
   "id": "9760580c",
   "metadata": {},
   "outputs": [],
   "source": [
    "# Copy SSP2-4.5 emissions to our three scenarios\n",
    "for scenario in scenarios:\n",
    "    f.emissions.loc[\n",
    "        dict(scenario=scenario)\n",
    "    ] = ssp_emissions.loc[\n",
    "        dict(\n",
    "            scenario='ssp245', \n",
    "            timepoints=slice(1750.5, 2100), \n",
    "            config='unspecified'\n",
    "        )\n",
    "    ].drop_vars('config').expand_dims(dim='config', axis=1)"
   ]
  },
  {
   "cell_type": "code",
   "execution_count": null,
   "id": "ffb2bbb3",
   "metadata": {},
   "outputs": [],
   "source": [
    "# Add 0.2 MtCH4 to the emissions time series in 2022 for the \"leak\" scenario\n",
    "f.emissions.loc[\n",
    "    dict(\n",
    "        specie='CH4', \n",
    "        timepoints=2022.5, \n",
    "        scenario='leak'\n",
    "    )\n",
    "] = f.emissions.loc[\n",
    "    dict(\n",
    "        specie='CH4', \n",
    "        timepoints=2022.5,\n",
    "        scenario='leak'\n",
    "    )\n",
    "] + 0.25"
   ]
  },
  {
   "cell_type": "code",
   "execution_count": null,
   "id": "9dd36fbf",
   "metadata": {},
   "outputs": [],
   "source": [
    "# Add the equivalent as CO2 fossil in the \"burned_as_co2\" scenario\n",
    "# Molecular weight CO2:CH4 = 44.009/16.043\n",
    "# Divide by 1000 to convert native units of MtCH4 in FaIR to GtCO2\n",
    "f.emissions.loc[\n",
    "    dict(\n",
    "        specie='CO2 FFI', \n",
    "        timepoints=2022.5,\n",
    "        scenario='burned_as_co2'\n",
    "    )\n",
    "] = f.emissions.loc[\n",
    "    dict(\n",
    "        specie='CO2 FFI', \n",
    "        timepoints=2022.5, \n",
    "        scenario='burned_as_co2'\n",
    "    )\n",
    "] + 0.25 / 1000 * 44.009 / 16.043"
   ]
  },
  {
   "cell_type": "code",
   "execution_count": null,
   "id": "c528ee5a",
   "metadata": {},
   "outputs": [],
   "source": [
    "# get solar and volcanic forcing from AR6\n",
    "ar6_forcing_df = pd.read_csv('../data/table_A3.3_historical_ERF_1750-2019_best_estimate.csv', index_col=0)\n",
    "ar6_forcing_df"
   ]
  },
  {
   "cell_type": "code",
   "execution_count": null,
   "id": "4ac00fa2",
   "metadata": {},
   "outputs": [],
   "source": [
    "# Ramp volcanic down to zero over a decade, following CMIP6 convention\n",
    "volcanic_forcing = np.zeros(351)\n",
    "volcanic_forcing[:270] = ar6_forcing_df['volcanic'].values\n",
    "volcanic_forcing[269:281] = np.linspace(1, 0, 12) * volcanic_forcing[269]"
   ]
  },
  {
   "cell_type": "code",
   "execution_count": null,
   "id": "636611ec",
   "metadata": {},
   "outputs": [],
   "source": [
    "# Use a zero solar amplitude post-2019, to isolate anthropogenic warming signal\n",
    "solar_forcing=np.zeros(351)\n",
    "solar_forcing[:270] = ar6_forcing_df['solar'].values"
   ]
  },
  {
   "cell_type": "code",
   "execution_count": null,
   "id": "c7191190",
   "metadata": {},
   "outputs": [],
   "source": [
    "# Put volcanic forcing into FaIR\n",
    "fill(\n",
    "    f.forcing, \n",
    "    volcanic_forcing[:, None, None] * fair_params_df.loc[:, 'scale Volcanic'].values[None, None, :], \n",
    "    specie='Volcanic'\n",
    ")"
   ]
  },
  {
   "cell_type": "code",
   "execution_count": null,
   "id": "a4108186",
   "metadata": {},
   "outputs": [],
   "source": [
    "# Put solar forcing into FaIR\n",
    "trend_shape = np.ones(351)\n",
    "trend_shape[:271] = np.linspace(0, 1, 271)\n",
    "\n",
    "fill(f.forcing, \n",
    "     solar_forcing[:, None, None] * \n",
    "     fair_params_df.loc[:, 'solar_amplitude'].values.squeeze() + \n",
    "     trend_shape[:, None, None] * fair_params_df.loc[:, 'solar_trend'].values.squeeze(),\n",
    "     specie='Solar'\n",
    ")"
   ]
  },
  {
   "cell_type": "markdown",
   "id": "de6cd8a3",
   "metadata": {},
   "source": [
    "### Set up climate and species-level response"
   ]
  },
  {
   "cell_type": "code",
   "execution_count": null,
   "id": "66afe126",
   "metadata": {},
   "outputs": [],
   "source": [
    "# Get default species configs\n",
    "f.fill_species_configs()\n",
    "\n",
    "# Climate response\n",
    "fill(f.climate_configs['ocean_heat_capacity'], fair_params_df.loc[:,'c1':'c3'])\n",
    "fill(f.climate_configs['ocean_heat_transfer'], fair_params_df.loc[:,'kappa1':'kappa3'])\n",
    "fill(f.climate_configs['deep_ocean_efficacy'], fair_params_df.loc[:,'epsilon'])\n",
    "fill(f.climate_configs['gamma_autocorrelation'], fair_params_df.loc[:,'gamma'])\n",
    "fill(f.climate_configs['stochastic_run'], False)\n",
    "\n",
    "# carbon cycle\n",
    "fill(f.species_configs['iirf_0'], fair_params_df.loc[:, 'r0'].values.squeeze(), specie='CO2')\n",
    "fill(f.species_configs['iirf_airborne'], fair_params_df.loc[:, 'rA'].values.squeeze(), specie='CO2')\n",
    "fill(f.species_configs['iirf_uptake'], fair_params_df.loc[:, 'rU'].values.squeeze(), specie='CO2')\n",
    "fill(f.species_configs['iirf_temperature'], fair_params_df.loc[:, 'rT'].values.squeeze(), specie='CO2')\n",
    "\n",
    "# aerosol direct\n",
    "for specie in ['BC', 'CH4', 'N2O', 'NH3', 'NOx', 'OC', 'Sulfur', 'VOC', 'Equivalent effective stratospheric chlorine']:\n",
    "    fill(f.species_configs['erfari_radiative_efficiency'], fair_params_df.loc[:, f'ari {specie}'].values.squeeze(), specie=specie)\n",
    "\n",
    "# aerosol indirect\n",
    "fill(f.species_configs['aci_scale'], fair_params_df.loc[:, 'beta'].values.squeeze())\n",
    "fill(f.species_configs['aci_shape'], fair_params_df.loc[:, 'shape_so2'].values.squeeze(), specie='Sulfur')\n",
    "fill(f.species_configs['aci_shape'], fair_params_df.loc[:, 'shape_bc'].values.squeeze(), specie='BC')\n",
    "fill(f.species_configs['aci_shape'], fair_params_df.loc[:, 'shape_oc'].values.squeeze(), specie='OC')\n",
    "\n",
    "# ozone\n",
    "for specie in ['CH4', 'N2O', 'Equivalent effective stratospheric chlorine', 'CO', 'VOC', 'NOx']:\n",
    "    fill(f.species_configs['ozone_radiative_efficiency'], fair_params_df.loc[:, f'o3 {specie}'], specie=specie)\n",
    "\n",
    "# methane lifetime baseline\n",
    "fill(f.species_configs['unperturbed_lifetime'], 10.4198121, specie='CH4')\n",
    "\n",
    "# emissions adjustments for N2O and CH4 \n",
    "fill(f.species_configs['baseline_emissions'], 19.019783117809567, specie='CH4')\n",
    "fill(f.species_configs['baseline_emissions'], 0.08602230754, specie='N2O')\n",
    "\n",
    "# forcing scaling\n",
    "for specie in ['CH4', 'N2O', 'Stratospheric water vapour', 'Contrails', 'Light absorbing particles on snow and ice', 'Land use']:\n",
    "    fill(f.species_configs['forcing_scale'], fair_params_df.loc[:, f'scale {specie}'].values.squeeze(), specie=specie)\n",
    "for specie in ['CFC-11', 'CFC-12', 'CFC-113', 'CFC-114', 'CFC-115', 'HCFC-22', 'HCFC-141b', 'HCFC-142b',\n",
    "    'CCl4', 'CHCl3', 'CH2Cl2', 'CH3Cl', 'CH3CCl3', 'CH3Br', 'Halon-1211', 'Halon-1301', 'Halon-2402',\n",
    "    'CF4', 'C2F6', 'C3F8', 'c-C4F8', 'C4F10', 'C5F12', 'C6F14', 'C7F16', 'C8F18', 'NF3', 'SF6', 'SO2F2',\n",
    "    'HFC-125', 'HFC-134a', 'HFC-143a', 'HFC-152a', 'HFC-227ea', 'HFC-23', 'HFC-236fa', 'HFC-245fa', 'HFC-32',\n",
    "    'HFC-365mfc', 'HFC-4310mee']:\n",
    "    fill(f.species_configs['forcing_scale'], fair_params_df.loc[:, 'scale minorGHG'].values.squeeze(), specie=specie)\n",
    "\n",
    "# Scale CO2 forcing based on its 4xCO2 calibration\n",
    "calibrated_f4co2_mean = fair_params_df.loc[:,'F_4xCO2'].values.mean()\n",
    "fill(\n",
    "    f.species_configs['forcing_scale'], \n",
    "    1 + 0.561*(calibrated_f4co2_mean - fair_params_df.loc[:,'F_4xCO2'].values)/calibrated_f4co2_mean,\n",
    "    specie='CO2'\n",
    ")\n",
    "\n",
    "# tune down volcanic efficacy\n",
    "fill(f.species_configs['forcing_efficacy'], 0.6, specie='Volcanic')\n",
    "\n",
    "# initial condition of CO2 concentration (but not baseline for forcing calculations)\n",
    "fill(\n",
    "    f.species_configs['baseline_concentration'], \n",
    "    fair_params_df.loc[:, 'co2_concentration_1750'].values.squeeze(),\n",
    "    specie='CO2'\n",
    ")\n",
    "\n",
    "# Use interactive methane lifetime\n",
    "f.ch4_method='Thornhill2021'"
   ]
  },
  {
   "cell_type": "code",
   "execution_count": null,
   "id": "05fc51f3",
   "metadata": {},
   "outputs": [],
   "source": [
    "# set initial conditions\n",
    "initialise(f.concentration, f.species_configs['baseline_concentration'])\n",
    "initialise(f.forcing, 0)\n",
    "initialise(f.temperature, 0)\n",
    "initialise(f.airborne_emissions, 0)\n",
    "initialise(f.cumulative_emissions, 0)"
   ]
  },
  {
   "cell_type": "markdown",
   "id": "98ea04d7",
   "metadata": {},
   "source": [
    "## Run FaIR"
   ]
  },
  {
   "cell_type": "code",
   "execution_count": null,
   "id": "db1821b4",
   "metadata": {},
   "outputs": [],
   "source": [
    "# run in parallel\n",
    "f.run()"
   ]
  },
  {
   "cell_type": "markdown",
   "id": "2d9e0287",
   "metadata": {},
   "source": [
    "## Analysis"
   ]
  },
  {
   "cell_type": "code",
   "execution_count": null,
   "id": "5ad28a64",
   "metadata": {},
   "outputs": [],
   "source": [
    "# make directory for plots\n",
    "os.makedirs('../plots', exist_ok=True)"
   ]
  },
  {
   "cell_type": "markdown",
   "id": "44da6340",
   "metadata": {},
   "source": [
    "### Probabalistic temperature projections in each scenario"
   ]
  },
  {
   "cell_type": "code",
   "execution_count": null,
   "id": "92c5d38a",
   "metadata": {},
   "outputs": [],
   "source": [
    "fig, ax = pl.subplots(1, 3, figsize=(12, 4))\n",
    "\n",
    "for i in range(3):\n",
    "    ax[i].fill_between(\n",
    "        f.timebounds, \n",
    "        np.percentile(f.temperature[:, i, :, 0]-f.temperature[100:151, i, :, 0].mean(axis=0), 5, axis=1), \n",
    "        np.percentile(f.temperature[:, i, :, 0]-f.temperature[100:151, i, :, 0].mean(axis=0), 95, axis=1),\n",
    "        color='#000000',\n",
    "        alpha=0.2,\n",
    "    )\n",
    "    ax[i].fill_between(\n",
    "        f.timebounds, \n",
    "        np.percentile(f.temperature[:, i, :, 0]-f.temperature[100:151, i, :, 0].mean(axis=0), 16, axis=1), \n",
    "        np.percentile(f.temperature[:, i, :, 0]-f.temperature[100:151, i, :, 0].mean(axis=0), 84, axis=1),\n",
    "        color='#000000',\n",
    "        alpha=0.2,\n",
    "    )\n",
    "    ax[i].plot(\n",
    "        f.timebounds, \n",
    "        np.median(f.temperature[:, i, :, 0]-f.temperature[100:151, i, :, 0].mean(axis=0), axis=1), \n",
    "        color='#000000',\n",
    "    )\n",
    "    ax[i].set_xlim(1750,2100)\n",
    "    ax[i].set_ylim(-1, 4)\n",
    "    ax[i].axhline(0, color='k', ls=\":\", lw=0.5)\n",
    "    ax[i].set_title(scenarios[i])\n",
    "pl.suptitle('Temperature anomaly')\n",
    "#fig.tight_layout()"
   ]
  },
  {
   "cell_type": "markdown",
   "id": "d754cddc",
   "metadata": {},
   "source": [
    "### Differences compared to baseline"
   ]
  },
  {
   "cell_type": "code",
   "execution_count": null,
   "id": "d0da2515",
   "metadata": {},
   "outputs": [],
   "source": [
    "pl.plot(\n",
    "    f.timebounds,\n",
    "    1e6 * (\n",
    "        (np.median(f.temperature[:, 1, :, 0]-f.temperature[100:151, 1, :, 0].mean(axis=0), axis=1)) - \n",
    "        (np.median(f.temperature[:, 0, :, 0]-f.temperature[100:151, 0, :, 0].mean(axis=0), axis=1))\n",
    "    ),\n",
    "    label = 'NordStream leakage'\n",
    ")\n",
    "pl.plot(\n",
    "    f.timebounds,\n",
    "    1e6 * (\n",
    "        (np.median(f.temperature[:, 2, :, 0]-f.temperature[100:151, 2, :, 0].mean(axis=0), axis=1)) - \n",
    "        (np.median(f.temperature[:, 0, :, 0]-f.temperature[100:151, 0, :, 0].mean(axis=0), axis=1))\n",
    "    ),\n",
    "    label = 'If leaked methane was burned as CO$_2$'\n",
    ")\n",
    "pl.xlim(2020, 2100)\n",
    "pl.ylabel('$\\mu$ K (millionths °C) above baseline')\n",
    "pl.title('NordStream pipeline leakage (250 ktCH$_4$) climate impacts')\n",
    "pl.savefig('../plots/NordStream.png')\n",
    "pl.legend()"
   ]
  },
  {
   "cell_type": "markdown",
   "id": "d118d3db",
   "metadata": {},
   "source": [
    "### Check that individual scenarios are smooth"
   ]
  },
  {
   "cell_type": "code",
   "execution_count": null,
   "id": "28a1e596",
   "metadata": {},
   "outputs": [],
   "source": [
    "pl.plot(\n",
    "    f.timebounds,\n",
    "    1e6 * (\n",
    "        (f.temperature[:, 1, :, 0]-f.temperature[100:151, 1, :, 0].mean(axis=0)) - \n",
    "        (f.temperature[:, 0, :, 0]-f.temperature[100:151, 0, :, 0].mean(axis=0))\n",
    "    ),\n",
    "    label = 'NordStream leakage'\n",
    ");\n",
    "pl.xlim(2020, 2100)"
   ]
  },
  {
   "cell_type": "code",
   "execution_count": null,
   "id": "2aa57689",
   "metadata": {},
   "outputs": [],
   "source": []
  }
 ],
 "metadata": {
  "kernelspec": {
   "display_name": "Python 3 (ipykernel)",
   "language": "python",
   "name": "python3"
  },
  "language_info": {
   "codemirror_mode": {
    "name": "ipython",
    "version": 3
   },
   "file_extension": ".py",
   "mimetype": "text/x-python",
   "name": "python",
   "nbconvert_exporter": "python",
   "pygments_lexer": "ipython3",
   "version": "3.10.6"
  }
 },
 "nbformat": 4,
 "nbformat_minor": 5
}
