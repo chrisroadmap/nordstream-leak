{
 "cells": [
  {
   "cell_type": "markdown",
   "id": "3bd1fb58",
   "metadata": {},
   "source": [
    "# Example dataset download\n",
    "\n",
    "This will download the RCMIP emissions and concentrations datasets, which is frequently used in workflows.\n",
    "\n",
    "It also demonstrates the use of the `climateforcing` utils."
   ]
  },
  {
   "cell_type": "code",
   "execution_count": null,
   "id": "22079d84",
   "metadata": {},
   "outputs": [],
   "source": [
    "from climateforcing.utils import mkdir_p, check_and_download"
   ]
  },
  {
   "cell_type": "code",
   "execution_count": null,
   "id": "9617d4f0",
   "metadata": {},
   "outputs": [],
   "source": [
    "mkdir_p('../data_input/rcmip/')"
   ]
  },
  {
   "cell_type": "code",
   "execution_count": null,
   "id": "198488d7",
   "metadata": {},
   "outputs": [],
   "source": [
    "# NOTE: if you are going to actually download this emissions file, don't forget to add it to .gitignore!\n",
    "\n",
    "check_and_download(\n",
    "    url='https://zenodo.org/record/4589756/files/rcmip-emissions-annual-means-v5-1-0.csv',\n",
    "    filepath='../data_input/rcmip/'\n",
    ")"
   ]
  },
  {
   "cell_type": "code",
   "execution_count": null,
   "id": "c3c16902",
   "metadata": {},
   "outputs": [],
   "source": [
    "check_and_download(\n",
    "    url='https://zenodo.org/record/4589756/files/rcmip-concentrations-annual-means-v5-1-0.csv',\n",
    "    filepath='../data_input/rcmip/'\n",
    ")"
   ]
  }
 ],
 "metadata": {
  "kernelspec": {
   "display_name": "Python 3 (ipykernel)",
   "language": "python",
   "name": "python3"
  },
  "language_info": {
   "codemirror_mode": {
    "name": "ipython",
    "version": 3
   },
   "file_extension": ".py",
   "mimetype": "text/x-python",
   "name": "python",
   "nbconvert_exporter": "python",
   "pygments_lexer": "ipython3",
   "version": "3.10.0"
  }
 },
 "nbformat": 4,
 "nbformat_minor": 5
}
